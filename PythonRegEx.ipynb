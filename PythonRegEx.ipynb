{
  "nbformat": 4,
  "nbformat_minor": 0,
  "metadata": {
    "colab": {
      "name": "PythonRegEx.ipynb",
      "provenance": [],
      "authorship_tag": "ABX9TyNakpKnSI7lfU3YVanZ0iNn",
      "include_colab_link": true
    },
    "kernelspec": {
      "name": "python3",
      "display_name": "Python 3"
    },
    "language_info": {
      "name": "python"
    }
  },
  "cells": [
    {
      "cell_type": "markdown",
      "metadata": {
        "id": "view-in-github",
        "colab_type": "text"
      },
      "source": [
        "<a href=\"https://colab.research.google.com/github/varmagsr/PythonRegEx/blob/main/PythonRegEx.ipynb\" target=\"_parent\"><img src=\"https://colab.research.google.com/assets/colab-badge.svg\" alt=\"Open In Colab\"/></a>"
      ]
    },
    {
      "cell_type": "markdown",
      "source": [
        "# ***Python RegEx***"
      ],
      "metadata": {
        "id": "v6UJVtDjOEzr"
      }
    },
    {
      "cell_type": "code",
      "execution_count": 35,
      "metadata": {
        "colab": {
          "base_uri": "https://localhost:8080/"
        },
        "id": "yjU88yOS_Oyc",
        "outputId": "6b5ec6d7-71e9-4058-90b8-d760175d6563"
      },
      "outputs": [
        {
          "output_type": "stream",
          "name": "stdout",
          "text": [
            "['32134567']\n",
            "['32134567']\n"
          ]
        }
      ],
      "source": [
        "import re\n",
        "word = \"order\"\n",
        "txt = \"I have a issue with my Order id # 32134567\"\n",
        "Phrase = txt.lower()\n",
        "#x = re.findall(\"order\", Phrase)\n",
        "if re.findall(word,Phrase):\n",
        "  Noget = re.findall(r'\\d+', Phrase)\n",
        "\n",
        "newReg = re.findall('order[^\\d]*(\\d*)', Phrase)\n",
        "\n",
        "#Ph = re.findall(\"\\d{3}[-\\.\\s]??\\d{3}[-\\.\\s]??\\d{4}|\\(\\d{3}\\)\\s*\\d{3}[-\\.\\s]??\\d{4}|\\d{3}[-\\.\\s]??\\d{4}\", Phrase)\n",
        "#(\\d{3}[-\\.\\s]??\\d{3}[-\\.\\s]??\\d{4}|\\(\\d{3}\\)\\s*\\d{3}[-\\.\\s]??\\d{4}|\\d{3}[-\\.\\s]??\\d{4})\n",
        "\n",
        "\n",
        "print(Noget)\n",
        "print(newReg)"
      ]
    },
    {
      "cell_type": "code",
      "source": [
        "\n",
        "txt = \"this is my ph no: 999-999-9999 and 1234567890my email is: papu@tupu.chees and ml@AI.io\"\n",
        "Phrase = txt.lower()\n",
        "\n",
        "Ph = re.findall(\"\\d{3}[-\\.\\s]??\\d{3}[-\\.\\s]??\\d{4}|\\(\\d{3}\\)\\s*\\d{3}[-\\.\\s]??\\d{4}|\\d{3}[-\\.\\s]??\\d{4}\", Phrase)\n",
        "email = re.findall(r'[\\w.+-]+@[\\w-]+\\.[\\w.-]+', Phrase)\n",
        "\n",
        "\n",
        "print(Ph)\n",
        "print(email)"
      ],
      "metadata": {
        "colab": {
          "base_uri": "https://localhost:8080/"
        },
        "id": "UlqoA3raMicv",
        "outputId": "34ef64db-f2f9-429b-f86b-e929c92a6733"
      },
      "execution_count": 36,
      "outputs": [
        {
          "output_type": "stream",
          "name": "stdout",
          "text": [
            "['999-999-9999', '1234567890']\n",
            "['papu@tupu.chees', 'ml@ai.io']\n"
          ]
        }
      ]
    },
    {
      "cell_type": "markdown",
      "source": [
        "# ***Practice Examples:***"
      ],
      "metadata": {
        "id": "w35hDnBZbM9-"
      }
    },
    {
      "cell_type": "code",
      "source": [
        "text = \"Follow our leader Elon musk on twitter here: https://twitter.com/elonmusk, more information on Tesla's products can be found at https://www.tesla.com/. Also here are leading influencers for tesla related news,https://twitter.com/teslarati https://twitter.com/dummy_tesla https://twitter.com/dummy_2_tesla\"\n",
        "#pattern = 'https:\\/\\/twitter.com\\/.[\\w-]+\\b' # todo: type your regex here\n",
        "\n",
        "hd = re.findall(\"https:\\/\\/twitter.com\\/.[\\w-]+\", text)\n",
        "print(hd)"
      ],
      "metadata": {
        "colab": {
          "base_uri": "https://localhost:8080/"
        },
        "id": "NliyHYvBbU22",
        "outputId": "0cf60aa0-491e-4ea0-a0e4-2ab51daba22c"
      },
      "execution_count": 51,
      "outputs": [
        {
          "output_type": "stream",
          "name": "stdout",
          "text": [
            "['https://twitter.com/elonmusk', 'https://twitter.com/teslarati', 'https://twitter.com/dummy_tesla', 'https://twitter.com/dummy_2_tesla']\n"
          ]
        }
      ]
    }
  ]
}
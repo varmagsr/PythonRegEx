{
  "nbformat": 4,
  "nbformat_minor": 0,
  "metadata": {
    "colab": {
      "name": "PythonRegEx.ipynb",
      "provenance": [],
      "authorship_tag": "ABX9TyN2Ja6cI8DkhY2Z0I/9dZYr",
      "include_colab_link": true
    },
    "kernelspec": {
      "name": "python3",
      "display_name": "Python 3"
    },
    "language_info": {
      "name": "python"
    }
  },
  "cells": [
    {
      "cell_type": "markdown",
      "metadata": {
        "id": "view-in-github",
        "colab_type": "text"
      },
      "source": [
        "<a href=\"https://colab.research.google.com/github/varmagsr/PythonRegEx/blob/main/PythonRegEx.ipynb\" target=\"_parent\"><img src=\"https://colab.research.google.com/assets/colab-badge.svg\" alt=\"Open In Colab\"/></a>"
      ]
    },
    {
      "cell_type": "markdown",
      "source": [
        "# ***Python RegEx***"
      ],
      "metadata": {
        "id": "v6UJVtDjOEzr"
      }
    },
    {
      "cell_type": "code",
      "execution_count": 26,
      "metadata": {
        "colab": {
          "base_uri": "https://localhost:8080/"
        },
        "id": "yjU88yOS_Oyc",
        "outputId": "a67c33bb-63e8-4250-cc00-fd6c47334a34"
      },
      "outputs": [
        {
          "output_type": "stream",
          "name": "stdout",
          "text": [
            "['32134567']\n",
            "['32134567']\n"
          ]
        }
      ],
      "source": [
        "import re\n",
        "word = \"order\"\n",
        "txt = \"I have a issue with my Order id # 32134567\"\n",
        "Phrase = txt.lower()\n",
        "#x = re.findall(\"order\", Phrase)\n",
        "if re.findall(word,Phrase):\n",
        "  Noget = re.findall(r'\\d+', Phrase)\n",
        "\n",
        "newReg = re.findall('order[^\\d]*(\\d*)', Phrase)\n",
        "\n",
        "#Ph = re.findall(\"\\d{3}[-\\.\\s]??\\d{3}[-\\.\\s]??\\d{4}|\\(\\d{3}\\)\\s*\\d{3}[-\\.\\s]??\\d{4}|\\d{3}[-\\.\\s]??\\d{4}\", Phrase)\n",
        "#(\\d{3}[-\\.\\s]??\\d{3}[-\\.\\s]??\\d{4}|\\(\\d{3}\\)\\s*\\d{3}[-\\.\\s]??\\d{4}|\\d{3}[-\\.\\s]??\\d{4})\n",
        "\n",
        "\n",
        "print(Noget)\n",
        "print(newReg)"
      ]
    },
    {
      "cell_type": "code",
      "source": [
        "\n",
        "txt = \"this is my ph no: 999-999-9999 and 1234567890my email is: papu@tupu.chees and ml@AI.io\"\n",
        "Phrase = txt.lower()\n",
        "\n",
        "Ph = re.findall(\"\\d{3}[-\\.\\s]??\\d{3}[-\\.\\s]??\\d{4}|\\(\\d{3}\\)\\s*\\d{3}[-\\.\\s]??\\d{4}|\\d{3}[-\\.\\s]??\\d{4}\", Phrase)\n",
        "email = re.findall(r'[\\w.+-]+@[\\w-]+\\.[\\w.-]+', Phrase)\n",
        "\n",
        "\n",
        "print(Ph)\n",
        "print(email)"
      ],
      "metadata": {
        "colab": {
          "base_uri": "https://localhost:8080/"
        },
        "id": "UlqoA3raMicv",
        "outputId": "f3a70924-a988-42da-90ec-4896dedc83af"
      },
      "execution_count": 21,
      "outputs": [
        {
          "output_type": "stream",
          "name": "stdout",
          "text": [
            "['999-999-9999', '1234567890']\n",
            "['papu@tupu.chees', 'ml@ai.io']\n"
          ]
        }
      ]
    }
  ]
}
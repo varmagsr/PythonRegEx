{
  "nbformat": 4,
  "nbformat_minor": 0,
  "metadata": {
    "colab": {
      "name": "PythonRegEx.ipynb",
      "provenance": [],
      "authorship_tag": "ABX9TyOUjAKsDzUg+5hqCKs4cgMS",
      "include_colab_link": true
    },
    "kernelspec": {
      "name": "python3",
      "display_name": "Python 3"
    },
    "language_info": {
      "name": "python"
    }
  },
  "cells": [
    {
      "cell_type": "markdown",
      "metadata": {
        "id": "view-in-github",
        "colab_type": "text"
      },
      "source": [
        "<a href=\"https://colab.research.google.com/github/varmagsr/PythonRegEx/blob/main/PythonRegEx.ipynb\" target=\"_parent\"><img src=\"https://colab.research.google.com/assets/colab-badge.svg\" alt=\"Open In Colab\"/></a>"
      ]
    },
    {
      "cell_type": "markdown",
      "source": [
        "# ***Python RegEx***"
      ],
      "metadata": {
        "id": "v6UJVtDjOEzr"
      }
    },
    {
      "cell_type": "code",
      "execution_count": 35,
      "metadata": {
        "colab": {
          "base_uri": "https://localhost:8080/"
        },
        "id": "yjU88yOS_Oyc",
        "outputId": "6b5ec6d7-71e9-4058-90b8-d760175d6563"
      },
      "outputs": [
        {
          "output_type": "stream",
          "name": "stdout",
          "text": [
            "['32134567']\n",
            "['32134567']\n"
          ]
        }
      ],
      "source": [
        "import re\n",
        "word = \"order\"\n",
        "txt = \"I have a issue with my Order id # 32134567\"\n",
        "Phrase = txt.lower()\n",
        "#x = re.findall(\"order\", Phrase)\n",
        "if re.findall(word,Phrase):\n",
        "  Noget = re.findall(r'\\d+', Phrase)\n",
        "\n",
        "newReg = re.findall('order[^\\d]*(\\d*)', Phrase)\n",
        "\n",
        "#Ph = re.findall(\"\\d{3}[-\\.\\s]??\\d{3}[-\\.\\s]??\\d{4}|\\(\\d{3}\\)\\s*\\d{3}[-\\.\\s]??\\d{4}|\\d{3}[-\\.\\s]??\\d{4}\", Phrase)\n",
        "#(\\d{3}[-\\.\\s]??\\d{3}[-\\.\\s]??\\d{4}|\\(\\d{3}\\)\\s*\\d{3}[-\\.\\s]??\\d{4}|\\d{3}[-\\.\\s]??\\d{4})\n",
        "\n",
        "\n",
        "print(Noget)\n",
        "print(newReg)"
      ]
    },
    {
      "cell_type": "code",
      "source": [
        "\n",
        "txt = \"this is my ph no: 999-999-9999 and 1234567890my email is: papu@tupu.chees and ml@AI.io\"\n",
        "Phrase = txt.lower()\n",
        "\n",
        "Ph = re.findall(\"\\d{3}[-\\.\\s]??\\d{3}[-\\.\\s]??\\d{4}|\\(\\d{3}\\)\\s*\\d{3}[-\\.\\s]??\\d{4}|\\d{3}[-\\.\\s]??\\d{4}\", Phrase)\n",
        "email = re.findall(r'[\\w.+-]+@[\\w-]+\\.[\\w.-]+', Phrase)\n",
        "\n",
        "\n",
        "print(Ph)\n",
        "print(email)"
      ],
      "metadata": {
        "colab": {
          "base_uri": "https://localhost:8080/"
        },
        "id": "UlqoA3raMicv",
        "outputId": "34ef64db-f2f9-429b-f86b-e929c92a6733"
      },
      "execution_count": 36,
      "outputs": [
        {
          "output_type": "stream",
          "name": "stdout",
          "text": [
            "['999-999-9999', '1234567890']\n",
            "['papu@tupu.chees', 'ml@ai.io']\n"
          ]
        }
      ]
    },
    {
      "cell_type": "markdown",
      "source": [
        "# ***Practice Examples:***"
      ],
      "metadata": {
        "id": "w35hDnBZbM9-"
      }
    },
    {
      "cell_type": "code",
      "source": [
        "text = \"Follow our leader Elon musk on twitter here: https://twitter.com/elonmusk, more information on Tesla's products can be found at https://www.tesla.com/. Also here are leading influencers for tesla related news,https://twitter.com/teslarati https://twitter.com/dummy_tesla https://twitter.com/dummy_2_tesla\"\n",
        "#pattern = 'https:\\/\\/twitter.com\\/.[\\w-]+\\b' # todo: type your regex here\n",
        "\n",
        "hd = re.findall('https://twitter\\.com/([a-zA-Z0-9_]+)', text)\n",
        "print(hd)"
      ],
      "metadata": {
        "colab": {
          "base_uri": "https://localhost:8080/"
        },
        "id": "NliyHYvBbU22",
        "outputId": "2aa33181-de64-41c8-a49b-813fcdc6d36b"
      },
      "execution_count": 58,
      "outputs": [
        {
          "output_type": "stream",
          "name": "stdout",
          "text": [
            "['elonmusk', 'teslarati', 'dummy_tesla', 'dummy_2_tesla']\n"
          ]
        }
      ]
    },
    {
      "cell_type": "code",
      "source": [
        "text = '''\n",
        "Concentration of Risk: Credit Risk \n",
        "Financial instruments that potentially subject us to a concentration of credit risk consist of cash, cash equivalents, marketable securities,\n",
        "restricted cash, accounts receivable, convertible note hedges, and interest rate swaps. Our cash balances are primarily invested in money market funds\n",
        "or on deposit at high credit quality financial institutions in the U.S. These deposits are typically in excess of insured limits. As of September 30, 2021\n",
        "and December 31, 2020, no entity represented 10% or more of our total accounts receivable balance. The risk of concentration for our convertible note\n",
        "hedges and interest rate swaps is mitigated by transacting with several highly-rated multinational banks.\n",
        "Concentration of Risk: Supply Risk\n",
        "We are dependent on our suppliers, including single source suppliers, and the inability of these suppliers to deliver necessary components of our\n",
        "products in a timely manner at prices, quality levels and volumes acceptable to us, or our inability to efficiently manage these components from these\n",
        "suppliers, could have a material adverse effect on our business, prospects, financial condition and operating results.\n",
        "'''\n",
        "pattern = 'Concentration of Risk:(.*)' # todo: type your regex here\n",
        "\n",
        "re.findall(pattern, text)\n"
      ],
      "metadata": {
        "colab": {
          "base_uri": "https://localhost:8080/"
        },
        "id": "o33nk5OsefDH",
        "outputId": "98692143-e7f8-4590-ad26-1f2855841777"
      },
      "execution_count": 57,
      "outputs": [
        {
          "output_type": "execute_result",
          "data": {
            "text/plain": [
              "[' Credit Risk ', ' Supply Risk']"
            ]
          },
          "metadata": {},
          "execution_count": 57
        }
      ]
    },
    {
      "cell_type": "code",
      "source": [
        "text = '''\n",
        "Tesla's gross cost of operating lease vehicles in FY2021 Q1 was $4.85 billion.\n",
        "BMW's gross cost of operating vehicles in FY2021 S1 was $8 billion.\n",
        "'''\n",
        "\n",
        "pattern = 'FY(\\d{4} (?:Q[1-4]|S[1-2]))'\n",
        "matches = re.findall(pattern, text)\n",
        "matches"
      ],
      "metadata": {
        "colab": {
          "base_uri": "https://localhost:8080/"
        },
        "id": "-bZVwjoJhClh",
        "outputId": "066c008d-3512-48d6-d505-474cf53b0a19"
      },
      "execution_count": 59,
      "outputs": [
        {
          "output_type": "execute_result",
          "data": {
            "text/plain": [
              "['2021 Q1', '2021 S1']"
            ]
          },
          "metadata": {},
          "execution_count": 59
        }
      ]
    }
  ]
}